{
  "nbformat": 4,
  "nbformat_minor": 0,
  "metadata": {
    "colab": {
      "provenance": [],
      "authorship_tag": "ABX9TyNuSLJJRafq2SZYPuwFGrT5",
      "include_colab_link": true
    },
    "kernelspec": {
      "name": "python3",
      "display_name": "Python 3"
    },
    "language_info": {
      "name": "python"
    },
    "gpuClass": "standard"
  },
  "cells": [
    {
      "cell_type": "markdown",
      "metadata": {
        "id": "view-in-github",
        "colab_type": "text"
      },
      "source": [
        "<a href=\"https://colab.research.google.com/github/TEERAWATL/Market-basket-analysis/blob/main/Market_basket_analysis.ipynb\" target=\"_parent\"><img src=\"https://colab.research.google.com/assets/colab-badge.svg\" alt=\"Open In Colab\"/></a>"
      ]
    },
    {
      "cell_type": "code",
      "execution_count": 1,
      "metadata": {
        "colab": {
          "base_uri": "https://localhost:8080/"
        },
        "id": "HdnXUKGlxt_k",
        "outputId": "d6e19c9d-3f24-44e5-e753-fb90b693db37"
      },
      "outputs": [
        {
          "output_type": "stream",
          "name": "stdout",
          "text": [
            "Looking in indexes: https://pypi.org/simple, https://us-python.pkg.dev/colab-wheels/public/simple/\n",
            "Collecting apyori\n",
            "  Downloading apyori-1.1.2.tar.gz (8.6 kB)\n",
            "  Preparing metadata (setup.py) ... \u001b[?25l\u001b[?25hdone\n",
            "Building wheels for collected packages: apyori\n",
            "  Building wheel for apyori (setup.py) ... \u001b[?25l\u001b[?25hdone\n",
            "  Created wheel for apyori: filename=apyori-1.1.2-py3-none-any.whl size=5976 sha256=7ff2d2ddf0ebf169296c0e413b011edc250234fe107d96b0b1b9f93a8de72dff\n",
            "  Stored in directory: /root/.cache/pip/wheels/32/2a/54/10c595515f385f3726642b10c60bf788029e8f3a1323e3913a\n",
            "Successfully built apyori\n",
            "Installing collected packages: apyori\n",
            "Successfully installed apyori-1.1.2\n"
          ]
        }
      ],
      "source": [
        "!pip install apyori"
      ]
    },
    {
      "cell_type": "code",
      "source": [
        "import pandas as pd\n",
        "from apyori import apriori"
      ],
      "metadata": {
        "id": "Afd1qCEZx_X0"
      },
      "execution_count": 2,
      "outputs": []
    },
    {
      "cell_type": "code",
      "source": [
        "transactions = [\n",
        "    [\"eggs\", \"bread\", \"milk\"],\n",
        "    [\"eggs\", \"bread\", \"butter\"],\n",
        "    [\"eggs\", \"coffee\", \"bread\"],\n",
        "    [\"bread\", \"milk\", \"butter\"],\n",
        "    [\"coffee\", \"milk\", \"sugar\"],\n",
        "    [\"bread\", \"eggs\", \"milk\", \"coffee\"],\n",
        "    [\"eggs\", \"bread\", \"milk\", \"butter\"],\n",
        "]"
      ],
      "metadata": {
        "id": "RD8bhgpsyDpx"
      },
      "execution_count": 3,
      "outputs": []
    },
    {
      "cell_type": "code",
      "source": [
        "min_support = 0.3\n",
        "min_confidence = 0.5\n",
        "min_lift = 1.0\n",
        "min_length = 2"
      ],
      "metadata": {
        "id": "3xjPuVozyGDX"
      },
      "execution_count": 8,
      "outputs": []
    },
    {
      "cell_type": "code",
      "source": [
        "rules = apriori(transactions,\n",
        "                min_support=min_support,\n",
        "                min_confidence=min_confidence,\n",
        "                min_lift=min_lift,\n",
        "                min_length=min_length)\n"
      ],
      "metadata": {
        "id": "-_U3t0uDyIE1"
      },
      "execution_count": 9,
      "outputs": []
    },
    {
      "cell_type": "code",
      "source": [
        "rules_df = pd.DataFrame(\n",
        "    [\n",
        "        {\n",
        "            \"items_base\": frozenset(r.ordered_statistics[0].items_base),\n",
        "            \"items_add\": frozenset(r.ordered_statistics[0].items_add),\n",
        "            \"support\": r.support,\n",
        "            \"confidence\": r.ordered_statistics[0].confidence,\n",
        "            \"lift\": r.ordered_statistics[0].lift,\n",
        "        }\n",
        "        for r in rules\n",
        "    ]\n",
        ")\n"
      ],
      "metadata": {
        "id": "JCEVcY2PyKOP"
      },
      "execution_count": 10,
      "outputs": []
    },
    {
      "cell_type": "code",
      "source": [
        "print(rules_df)\n"
      ],
      "metadata": {
        "colab": {
          "base_uri": "https://localhost:8080/"
        },
        "id": "5S_mwAMuyMYM",
        "outputId": "8de0f27a-cacd-42c5-c8b8-88d954b8435f"
      },
      "execution_count": 11,
      "outputs": [
        {
          "output_type": "stream",
          "name": "stdout",
          "text": [
            "  items_base      items_add   support  confidence      lift\n",
            "0         ()        (bread)  0.857143    0.857143  1.000000\n",
            "1         ()         (eggs)  0.714286    0.714286  1.000000\n",
            "2         ()         (milk)  0.714286    0.714286  1.000000\n",
            "3    (bread)       (butter)  0.428571    0.500000  1.166667\n",
            "4         ()  (eggs, bread)  0.714286    0.714286  1.000000\n",
            "5         ()  (milk, bread)  0.571429    0.571429  1.000000\n",
            "6    (bread)   (eggs, milk)  0.428571    0.500000  1.166667\n"
          ]
        }
      ]
    },
    {
      "cell_type": "markdown",
      "source": [
        "**For example**\n",
        "\n",
        "items_base: (eggs) - The antecedent, or the item(s) on the left-hand side of the association rule.\n",
        "\n",
        "items_add: (bread) - The consequent, or the item(s) on the right-hand side of the association rule.\n",
        "\n",
        "support: 0.714286 - The proportion of transactions that contain both the antecedent and the consequent items. In this case, the support value means that 71.43% of transactions contain both eggs and bread.\n",
        "\n",
        "confidence: 0.833333 - The probability of finding the consequent (bread) in a transaction, given that the antecedent (eggs) is present. In this case, the confidence value means that 83.33% of transactions that contain eggs also contain bread.\n",
        "\n",
        "lift: 1.666667 - The ratio of observed support to expected support if the antecedent and consequent items were independent. A lift greater than 1 indicates that the antecedent and consequent items are more likely to be purchased together than individually. In this case, the lift value means that eggs and bread are 1.67 times more likely to be purchased together than if they were purchased independently."
      ],
      "metadata": {
        "id": "dGTlsib3zhST"
      }
    }
  ]
}